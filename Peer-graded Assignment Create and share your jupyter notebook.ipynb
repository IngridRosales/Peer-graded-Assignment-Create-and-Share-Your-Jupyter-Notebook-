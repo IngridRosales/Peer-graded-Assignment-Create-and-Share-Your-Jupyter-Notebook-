{
  "metadata": {
    "kernelspec": {
      "name": "python",
      "display_name": "Pyolite",
      "language": "python"
    },
    "language_info": {
      "codemirror_mode": {
        "name": "python",
        "version": 3
      },
      "file_extension": ".py",
      "mimetype": "text/x-python",
      "name": "python",
      "nbconvert_exporter": "python",
      "pygments_lexer": "ipython3",
      "version": "3.8"
    }
  },
  "nbformat_minor": 4,
  "nbformat": 4,
  "cells": [
    {
      "cell_type": "markdown",
      "source": "<center>\n    <img src=\"https://cf-courses-data.s3.us.cloud-object-storage.appdomain.cloud/IBMDeveloperSkillsNetwork-DS0105EN-SkillsNetwork/labs/Module2/images/SN_web_lightmode.png\" width=\"300\" alt=\"cognitiveclass.ai logo\"  />\n</center>\n",
      "metadata": {}
    },
    {
      "cell_type": "markdown",
      "source": "#### Add your code below following the instructions given in the course\n",
      "metadata": {}
    },
    {
      "cell_type": "markdown",
      "source": "# My Jupiter Notebook on IBM Watson Studio",
      "metadata": {}
    },
    {
      "cell_type": "markdown",
      "source": "**Ingrid Rosales**\n\nIndustrial Engineer",
      "metadata": {}
    },
    {
      "cell_type": "markdown",
      "source": "_I'm interested in data science because all is about data, so, in all the positions, jobs and companies you'll need al least a minimum knowdlege of data science_",
      "metadata": {}
    },
    {
      "cell_type": "markdown",
      "source": "### This code will ejecute 1+1",
      "metadata": {}
    },
    {
      "cell_type": "code",
      "source": "1+1",
      "metadata": {
        "trusted": true
      },
      "execution_count": 2,
      "outputs": [
        {
          "execution_count": 2,
          "output_type": "execute_result",
          "data": {
            "text/plain": "2"
          },
          "metadata": {}
        }
      ]
    },
    {
      "cell_type": "markdown",
      "source": "My favorite animal is:\n![Gatitos](https://www.purina.es/sites/default/files/2021-12/6_El_comportamiento_de_los_gatitos%20%282%29.jpg)\n\nMy favorites things to do:\n1. Listen Music\n2. Hang out with my friends\n3. Read!\n\n|Name|Last Name|Age|\n|----|---------|---|\n|Ana | Rojo    | 21|\n|----|---------|---|",
      "metadata": {}
    }
  ]
}